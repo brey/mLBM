{
 "cells": [
  {
   "cell_type": "markdown",
   "id": "6b8eb70b-bc01-4066-9a33-911e52d6ff1c",
   "metadata": {},
   "source": [
    "## Visualize results"
   ]
  },
  {
   "cell_type": "code",
   "execution_count": null,
   "id": "fd63b51d-803e-4be5-9c80-48c0fa1098d3",
   "metadata": {},
   "outputs": [],
   "source": [
    "import pandas as pd"
   ]
  },
  {
   "cell_type": "code",
   "execution_count": null,
   "id": "276a1a61-72c0-495b-980f-3481b4d17ba4",
   "metadata": {},
   "outputs": [],
   "source": [
    "import numpy as np"
   ]
  },
  {
   "cell_type": "code",
   "execution_count": null,
   "id": "735f2398-a144-4b59-ac9c-35ce06a0751b",
   "metadata": {},
   "outputs": [],
   "source": [
    "import pyvista as pv"
   ]
  },
  {
   "cell_type": "code",
   "execution_count": null,
   "id": "5d607a47-c508-407f-83e7-66f4c000b16e",
   "metadata": {},
   "outputs": [],
   "source": [
    "%matplotlib widget"
   ]
  },
  {
   "cell_type": "code",
   "execution_count": null,
   "id": "6659b6e6-c19b-4fd1-a004-98b7dc55ef2f",
   "metadata": {},
   "outputs": [],
   "source": [
    "def time_view(data, it=0, name='data'):\n",
    "\n",
    "    nx, ny, nz = data.shape \n",
    "    \n",
    "    x = np.arange(nx).astype(float)\n",
    "    y = np.arange(ny).astype(float)\n",
    "    z = np.arange(nz).astype(float)\n",
    "    x, y, z = np.meshgrid(x, y, z)\n",
    "\n",
    "    grid = pv.StructuredGrid(x, y, z)\n",
    "    \n",
    "    p = pv.Plotter()\n",
    "\n",
    "    sargs = dict(interactive=False, title=name, position_x=0.03, position_y=0.1, height=.6, vertical=True)  # Configure bar\n",
    "    \n",
    "    grid.point_data[name] = data.flatten()\n",
    "        \n",
    "    p.add_mesh_threshold(\n",
    "        grid.contour(),\n",
    "        lighting=False,\n",
    "        show_edges=False,\n",
    "        scalar_bar_args=sargs,\n",
    "        pointa=(0.6, 0.9),\n",
    "        pointb=(0.95, 0.9),\n",
    "        )\n",
    "    \n",
    "    p.show()\n",
    "\n"
   ]
  },
  {
   "cell_type": "code",
   "execution_count": null,
   "id": "749a240e-b249-48d5-8819-353995b34392",
   "metadata": {},
   "outputs": [],
   "source": [
    "nt = 10\n",
    "nn = 104"
   ]
  },
  {
   "cell_type": "markdown",
   "id": "f37cfb6c-2502-4d03-90f9-909d2589ace3",
   "metadata": {
    "execution": {
     "iopub.execute_input": "2024-12-22T10:00:21.425750Z",
     "iopub.status.busy": "2024-12-22T10:00:21.425447Z",
     "iopub.status.idle": "2024-12-22T10:00:21.707307Z",
     "shell.execute_reply": "2024-12-22T10:00:21.706074Z",
     "shell.execute_reply.started": "2024-12-22T10:00:21.425730Z"
    }
   },
   "source": [
    "## Max Divergence"
   ]
  },
  {
   "cell_type": "code",
   "execution_count": null,
   "id": "b38e171a-bc94-4035-9d59-479f7ba85b0b",
   "metadata": {},
   "outputs": [],
   "source": [
    "div = pd.read_table(\"./src/d\", header=None, delim_whitespace=True, names=[\"div\"])"
   ]
  },
  {
   "cell_type": "code",
   "execution_count": null,
   "id": "e7ee1111-651c-4a25-8ab1-7d320d1f92cd",
   "metadata": {},
   "outputs": [],
   "source": [
    "div.plot()"
   ]
  },
  {
   "cell_type": "markdown",
   "id": "d4e77f1e-33da-43c6-a772-6a134dad5372",
   "metadata": {},
   "source": [
    "## Enstrophy"
   ]
  },
  {
   "cell_type": "code",
   "execution_count": null,
   "id": "7d6922b9-c5eb-46b8-96d9-a0468512d576",
   "metadata": {},
   "outputs": [],
   "source": [
    "e = pd.read_table(\"./src/disr\", header=None, delim_whitespace=True, names=[\"et1\", \"et2\", \"etotal\"])"
   ]
  },
  {
   "cell_type": "code",
   "execution_count": null,
   "id": "abce258b-9505-4579-bea6-108c557682f4",
   "metadata": {},
   "outputs": [],
   "source": [
    "e.plot()"
   ]
  },
  {
   "cell_type": "markdown",
   "id": "73ba9241-c70f-4fc2-8f3d-7845927d2217",
   "metadata": {},
   "source": [
    "## Energy"
   ]
  },
  {
   "cell_type": "code",
   "execution_count": null,
   "id": "a08dda95-8141-4710-9ddf-9eae2a54ce65",
   "metadata": {},
   "outputs": [],
   "source": [
    "energy = pd.read_table(\"./src/ene\", header=None, delim_whitespace=True, names=[\"ekinetic\", \"emagnetic\"])"
   ]
  },
  {
   "cell_type": "code",
   "execution_count": null,
   "id": "746eca25-2f5a-411b-8d5f-f323e9d9ce8f",
   "metadata": {},
   "outputs": [],
   "source": [
    "energy.plot()"
   ]
  },
  {
   "cell_type": "markdown",
   "id": "cbdbc131-cf82-49cb-9426-400ec2d4eb4f",
   "metadata": {},
   "source": [
    "## Maximum Current & Vorticity"
   ]
  },
  {
   "cell_type": "code",
   "execution_count": null,
   "id": "a7b600de-1a2e-4593-9fac-cd55f93c6ba7",
   "metadata": {},
   "outputs": [],
   "source": [
    "stat = pd.read_table(\"./src/stat\", header=None, delim_whitespace=True, names=[\"time\", \"cmax\", \"vmax\"])"
   ]
  },
  {
   "cell_type": "code",
   "execution_count": null,
   "id": "844ae558-e793-4f1e-8eb3-356bc34139d9",
   "metadata": {},
   "outputs": [],
   "source": [
    "ax_ = stat.plot('time', 'cmax')\n",
    "stat.plot('time', 'vmax', secondary_y=True, ax=ax_)"
   ]
  },
  {
   "cell_type": "markdown",
   "id": "f0c9c4ac-4250-4cff-81e6-6bbb83b27c00",
   "metadata": {},
   "source": [
    "## Cross correlation"
   ]
  },
  {
   "cell_type": "code",
   "execution_count": null,
   "id": "f3435895-8647-477d-be54-bd787e66ef00",
   "metadata": {},
   "outputs": [],
   "source": [
    "corr = pd.read_table(\"./src/corel\", header=None, delim_whitespace=True, names=[\"corr\"])"
   ]
  },
  {
   "cell_type": "code",
   "execution_count": null,
   "id": "cf862147-8feb-461a-846d-87752c6cf09a",
   "metadata": {},
   "outputs": [],
   "source": [
    "corr.plot()"
   ]
  },
  {
   "cell_type": "markdown",
   "id": "245423fa-b48c-4405-a0f8-d0124a19026c",
   "metadata": {},
   "source": [
    "## Vorticity"
   ]
  },
  {
   "cell_type": "code",
   "execution_count": null,
   "id": "01423ac6-11e4-4090-a07b-5873f74b02b4",
   "metadata": {},
   "outputs": [],
   "source": [
    "vorticity = pd.read_table(\"./src/v\", header=None).values"
   ]
  },
  {
   "cell_type": "code",
   "execution_count": null,
   "id": "79b3c546-17d4-453a-9ae9-f5f582cbed68",
   "metadata": {
    "scrolled": true
   },
   "outputs": [],
   "source": [
    "vs = vorticity.reshape(nt,nn,nn,nn)"
   ]
  },
  {
   "cell_type": "code",
   "execution_count": null,
   "id": "5e91dbc5-3120-430b-9336-822885ebd141",
   "metadata": {
    "scrolled": true
   },
   "outputs": [],
   "source": [
    "vs.min(), vs.max()"
   ]
  },
  {
   "cell_type": "code",
   "execution_count": null,
   "id": "0d97f08e-935f-4a3e-9863-d7dd3c358f13",
   "metadata": {},
   "outputs": [],
   "source": [
    "time_view(vs[5,:,:,:], name=\"Vorticity\")"
   ]
  },
  {
   "cell_type": "markdown",
   "id": "a09133d4-0f58-4725-a402-882056f3f28b",
   "metadata": {},
   "source": [
    "## Current "
   ]
  },
  {
   "cell_type": "code",
   "execution_count": null,
   "id": "cc35232e-b7e0-41f9-8577-0ce1663a8e2c",
   "metadata": {},
   "outputs": [],
   "source": [
    "current = pd.read_table(\"./src/c\", header=None).values"
   ]
  },
  {
   "cell_type": "code",
   "execution_count": null,
   "id": "d7126db7-ba60-47e5-9d07-c6e6033776fd",
   "metadata": {
    "scrolled": true
   },
   "outputs": [],
   "source": [
    "cs = current.reshape(nt,nn,nn,nn)"
   ]
  },
  {
   "cell_type": "code",
   "execution_count": null,
   "id": "db62d1e2-3e59-43bc-8eda-c5ac5394d8e5",
   "metadata": {},
   "outputs": [],
   "source": [
    "time_view(cs[0,:,:,:], name=\"Current\")"
   ]
  },
  {
   "cell_type": "markdown",
   "id": "5d8fd1c5-4084-4494-a2ad-152a557e7661",
   "metadata": {},
   "source": [
    "## Density"
   ]
  },
  {
   "cell_type": "code",
   "execution_count": null,
   "id": "bfbddb06-e869-4bbb-99bb-60591a0b244d",
   "metadata": {},
   "outputs": [],
   "source": [
    "density = pd.read_table(\"./src/de\", header=None, delim_whitespace=True).values"
   ]
  },
  {
   "cell_type": "code",
   "execution_count": null,
   "id": "a2a84c9d-f062-4744-a734-ce5cfda69f01",
   "metadata": {},
   "outputs": [],
   "source": [
    "ds = density.reshape(nt, nn, nn, nn)"
   ]
  },
  {
   "cell_type": "code",
   "execution_count": null,
   "id": "446c838c-d506-43c6-bd5f-2d473a21a10e",
   "metadata": {},
   "outputs": [],
   "source": [
    "time_view(ds[-1,:,:,:], name=\"Density\")"
   ]
  },
  {
   "cell_type": "code",
   "execution_count": null,
   "id": "3bc697c6-59cd-4204-8442-0957af0493dc",
   "metadata": {},
   "outputs": [],
   "source": []
  }
 ],
 "metadata": {
  "kernelspec": {
   "display_name": "mlbm",
   "language": "python",
   "name": "mlbm"
  },
  "language_info": {
   "codemirror_mode": {
    "name": "ipython",
    "version": 3
   },
   "file_extension": ".py",
   "mimetype": "text/x-python",
   "name": "python",
   "nbconvert_exporter": "python",
   "pygments_lexer": "ipython3",
   "version": "3.11.11"
  }
 },
 "nbformat": 4,
 "nbformat_minor": 5
}
